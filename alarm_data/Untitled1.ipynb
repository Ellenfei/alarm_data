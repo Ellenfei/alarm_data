{
 "cells": [
  {
   "cell_type": "code",
   "execution_count": 4,
   "metadata": {},
   "outputs": [],
   "source": [
    "import pandas as pd  # 数值计算包\n",
    "import numpy as np\n",
    "import torch  # 总包\n",
    "import torch.nn as nn  # 神经网络包\n",
    "from torch.autograd import Variable as V\n",
    "import torchvision.transforms as transforms  # 辅助包\n",
    "import torch.optim as optim  # optimizer SGD \n",
    "# 数据处理\n",
    "from alarm_data_type import alarm_dict\n",
    "# 导入数据\n",
    "filename = 'raw_data.xls'\n",
    "table = pd.read_excel(filename, sheet_name=0, header=0)\n",
    "datas = []\n",
    "for i in range(len(table)):\n",
    "    data = []\n",
    "    data.append(alarm_dict.level[table.iloc[i].values[0]])\n",
    "    data.append(alarm_dict.event[table.iloc[i].values[1]])\n",
    "    data.append(alarm_dict.alarm_source[table.iloc[i].values[2]])\n",
    "    data.append(alarm_dict.location[table.iloc[i].values[3]])\n",
    "    data.append(alarm_dict.occur_time[table.iloc[i].values[4]])\n",
    "    data.append(table.iloc[i].values[7])\n",
    "    datas.append(data)\n",
    "# print(datas)"
   ]
  },
  {
   "cell_type": "markdown",
   "metadata": {},
   "source": [
    "$$H_{out}=floor((H_{in}+2padding[0]-dilation[0](kernerl_size[0]-1)-1)/stride[0]+1)$$ "
   ]
  },
  {
   "cell_type": "markdown",
   "metadata": {},
   "source": [
    "$$W_{out}=floor((W_{in}+2padding[1]-dilation[1](kernerl_size[1]-1)-1)/stride[1]+1)$$ "
   ]
  },
  {
   "cell_type": "markdown",
   "metadata": {},
   "source": [
    "$$out(N_i, C_{out_j})=bias(C_{out_j})+\\sum^{C_{in}-1}{k=0}weight(C{out_j},k)\\bigotimes input(N_i,k)$$ "
   ]
  },
  {
   "cell_type": "code",
   "execution_count": null,
   "metadata": {
    "collapsed": true
   },
   "outputs": [],
   "source": []
  }
 ],
 "metadata": {
  "kernelspec": {
   "display_name": "Python 3",
   "language": "python",
   "name": "python3"
  },
  "language_info": {
   "codemirror_mode": {
    "name": "ipython",
    "version": 3
   },
   "file_extension": ".py",
   "mimetype": "text/x-python",
   "name": "python",
   "nbconvert_exporter": "python",
   "pygments_lexer": "ipython3",
   "version": "3.6.3"
  }
 },
 "nbformat": 4,
 "nbformat_minor": 2
}
