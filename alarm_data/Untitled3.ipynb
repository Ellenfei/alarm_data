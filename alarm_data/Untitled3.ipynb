{
 "cells": [
  {
   "cell_type": "code",
   "execution_count": 3,
   "metadata": {},
   "outputs": [
    {
     "name": "stdout",
     "output_type": "stream",
     "text": [
      "[1, 2, 3, 4, 5, 6, 7, 8, 9, 11, 22, 33, 44, 55, 66, 77, 88, 99, 101, 111, 121, 131, 141, 151, 161, 171, 181, 191, 202, 212, 222, 232, 242, 252, 262, 272, 282, 292, 303, 313, 323, 333, 343, 353, 363, 373, 383, 393, 404, 414, 424, 434, 444, 454, 464, 474, 484, 494, 505, 515, 525, 535, 545, 555, 565, 575, 585, 595, 606, 616, 626, 636, 646, 656, 666, 676, 686, 696, 707, 717, 727, 737, 747, 757, 767, 777, 787, 797, 808, 818, 828, 838, 848, 858, 868, 878, 888, 898, 909, 919, 929, 939, 949, 959, 969, 979, 989, 999]\n"
     ]
    }
   ],
   "source": [
    "def is_palindrome(n):\n",
    "    return str(n)==str(n)[::-1]\n",
    "out1=filter(is_palindrome, range(1,1000))\n",
    "print(list(out1))"
   ]
  },
  {
   "cell_type": "code",
   "execution_count": 10,
   "metadata": {},
   "outputs": [
    {
     "name": "stdout",
     "output_type": "stream",
     "text": [
      "<function createdCounter.<locals>.counter at 0x7febb81b3f28>\n"
     ]
    }
   ],
   "source": [
    "def createdCounter():\n",
    "    count=0\n",
    "    def counter():\n",
    "        nonlocal count\n",
    "        count += 1\n",
    "        return count\n",
    "    return counter\n",
    "c1=createdCounter()\n",
    "print(c1)"
   ]
  },
  {
   "cell_type": "code",
   "execution_count": 11,
   "metadata": {},
   "outputs": [
    {
     "data": {
      "text/plain": [
       "1"
      ]
     },
     "execution_count": 11,
     "metadata": {},
     "output_type": "execute_result"
    }
   ],
   "source": [
    "c1()"
   ]
  },
  {
   "cell_type": "code",
   "execution_count": 14,
   "metadata": {},
   "outputs": [
    {
     "data": {
      "text/plain": [
       "[1, 3, 5, 7, 9, 11, 13, 15, 17, 19]"
      ]
     },
     "execution_count": 14,
     "metadata": {},
     "output_type": "execute_result"
    }
   ],
   "source": [
    "from __future__ import print_function\n",
    "L=list(filter(lambda n: n%2==1, range(1,20)))\n",
    "L"
   ]
  },
  {
   "cell_type": "code",
   "execution_count": 18,
   "metadata": {},
   "outputs": [
    {
     "name": "stdout",
     "output_type": "stream",
     "text": [
      "fast executed  0.0015687942504882812 ms\n"
     ]
    },
    {
     "data": {
      "text/plain": [
       "33"
      ]
     },
     "execution_count": 18,
     "metadata": {},
     "output_type": "execute_result"
    }
   ],
   "source": [
    "import time, functools\n",
    "def metric(func):\n",
    "    @functools.wraps(func)\n",
    "    def wrapper(*args, **kw):\n",
    "        a=time.time()\n",
    "        f=func(*args, **kw)\n",
    "        b=time.time()\n",
    "        print('%s executed  %s ms' % (func.__name__, b-a))\n",
    "        return f\n",
    "    return wrapper\n",
    "\n",
    "@metric\n",
    "def fast(x,y):\n",
    "    time.sleep(0.0012)\n",
    "    return x+y\n",
    "f1=fast(11,22)\n",
    "f1"
   ]
  },
  {
   "cell_type": "code",
   "execution_count": 19,
   "metadata": {},
   "outputs": [
    {
     "name": "stdout",
     "output_type": "stream",
     "text": [
      "<__main__.Student object at 0x7febb83226d8>\n"
     ]
    }
   ],
   "source": [
    "class Student(object):\n",
    "    count = 0\n",
    "    def __init__(self, name, score):\n",
    "        self.__name = name\n",
    "        self.__score = score\n",
    "        Student.count += 1\n",
    "s=Student('ellen',100)\n",
    "print(s)"
   ]
  },
  {
   "cell_type": "code",
   "execution_count": 20,
   "metadata": {},
   "outputs": [
    {
     "data": {
      "text/plain": [
       "1"
      ]
     },
     "execution_count": 20,
     "metadata": {},
     "output_type": "execute_result"
    }
   ],
   "source": [
    "s.count"
   ]
  },
  {
   "cell_type": "code",
   "execution_count": 21,
   "metadata": {},
   "outputs": [
    {
     "data": {
      "text/plain": [
       "1"
      ]
     },
     "execution_count": 21,
     "metadata": {},
     "output_type": "execute_result"
    }
   ],
   "source": [
    "s.count"
   ]
  },
  {
   "cell_type": "code",
   "execution_count": 22,
   "metadata": {},
   "outputs": [
    {
     "data": {
      "text/plain": [
       "2"
      ]
     },
     "execution_count": 22,
     "metadata": {},
     "output_type": "execute_result"
    }
   ],
   "source": [
    "s2=Student('dd',22)\n",
    "s.count"
   ]
  },
  {
   "cell_type": "code",
   "execution_count": 25,
   "metadata": {
    "collapsed": true
   },
   "outputs": [],
   "source": [
    "class Student(object):\n",
    "    __slots__=('name','age')\n",
    "s=Student()\n",
    "s.name='Mesh'\n",
    "s.age=25\n"
   ]
  },
  {
   "cell_type": "code",
   "execution_count": 31,
   "metadata": {
    "collapsed": true
   },
   "outputs": [],
   "source": [
    "class gradentStudent(Student):\n",
    "#     __slots__=('sex','score')\n",
    "    pass\n",
    "s1=gradentStudent()\n",
    "s1.name='hello'\n",
    "s1.sex='w'"
   ]
  },
  {
   "cell_type": "code",
   "execution_count": 32,
   "metadata": {},
   "outputs": [
    {
     "data": {
      "text/plain": [
       "True"
      ]
     },
     "execution_count": 32,
     "metadata": {},
     "output_type": "execute_result"
    }
   ],
   "source": [
    "isinstance(22, int)"
   ]
  },
  {
   "cell_type": "code",
   "execution_count": 35,
   "metadata": {
    "collapsed": true
   },
   "outputs": [],
   "source": [
    "class Student(object):\n",
    "    @property\n",
    "    def score(self):\n",
    "        return self._score\n",
    "    @score.setter\n",
    "    def score(self, value):\n",
    "        if not isinstance(value, int):\n",
    "            raise ValueError('score must be an integer!')\n",
    "        if value<0 or value>100:\n",
    "            raise ValueError('score must between 0~100!')\n",
    "        self._score=value"
   ]
  },
  {
   "cell_type": "code",
   "execution_count": 37,
   "metadata": {},
   "outputs": [
    {
     "data": {
      "text/plain": [
       "60"
      ]
     },
     "execution_count": 37,
     "metadata": {},
     "output_type": "execute_result"
    }
   ],
   "source": [
    "s=Student()\n",
    "s.score=60\n",
    "s.score"
   ]
  },
  {
   "cell_type": "code",
   "execution_count": 40,
   "metadata": {
    "collapsed": true
   },
   "outputs": [],
   "source": [
    "class Screen(object):\n",
    "    @property\n",
    "    def width(self):\n",
    "        return self._width\n",
    "    @width.setter\n",
    "    def width(self, value):\n",
    "        self._width=value\n",
    "        \n",
    "    @property\n",
    "    def height(self):\n",
    "        return self._height\n",
    "    @height.setter\n",
    "    def height(self, height):\n",
    "        self._height=height\n",
    "        \n",
    "    @property\n",
    "    def resolution(self):\n",
    "        return self._width*self._height"
   ]
  },
  {
   "cell_type": "code",
   "execution_count": 41,
   "metadata": {},
   "outputs": [
    {
     "data": {
      "text/plain": [
       "200"
      ]
     },
     "execution_count": 41,
     "metadata": {},
     "output_type": "execute_result"
    }
   ],
   "source": [
    "s=Screen()\n",
    "s.width=10\n",
    "s.height=20\n",
    "res=s.resolution\n",
    "res"
   ]
  },
  {
   "cell_type": "code",
   "execution_count": 52,
   "metadata": {},
   "outputs": [
    {
     "data": {
      "text/plain": [
       "[1, 1, 2, 3, 5, 8]"
      ]
     },
     "execution_count": 52,
     "metadata": {},
     "output_type": "execute_result"
    }
   ],
   "source": [
    "class Fib(object):\n",
    "    def __getitem__(self,n):\n",
    "        if isinstance(n, int):\n",
    "            a,b=1,1\n",
    "            for x in range(n):\n",
    "                a,b=b,a+b\n",
    "            return a\n",
    "        if isinstance(n, slice):\n",
    "            start=n.start\n",
    "            stop=n.stop\n",
    "            if start is None:\n",
    "                start=0\n",
    "            a,b=1,1\n",
    "            L=[]\n",
    "            for x in range(stop):\n",
    "                if x>=start:\n",
    "                    L.append(a)\n",
    "                a,b=b,a+b\n",
    "            return L\n",
    "f=Fib()\n",
    "# f[0:6]\n",
    "# 没有对step参数做处理\n",
    "f[0:6:2]"
   ]
  },
  {
   "cell_type": "code",
   "execution_count": 49,
   "metadata": {},
   "outputs": [
    {
     "data": {
      "text/plain": [
       "8"
      ]
     },
     "execution_count": 49,
     "metadata": {},
     "output_type": "execute_result"
    }
   ],
   "source": [
    "f1=Fib()\n",
    "f1[5]"
   ]
  },
  {
   "cell_type": "code",
   "execution_count": 53,
   "metadata": {},
   "outputs": [
    {
     "data": {
      "text/plain": [
       "False"
      ]
     },
     "execution_count": 53,
     "metadata": {},
     "output_type": "execute_result"
    }
   ],
   "source": [
    "callable(Fib())"
   ]
  },
  {
   "cell_type": "code",
   "execution_count": 57,
   "metadata": {},
   "outputs": [
    {
     "name": "stdout",
     "output_type": "stream",
     "text": [
      "测试失败！\n"
     ]
    }
   ],
   "source": [
    "from enum import Enum, unique\n",
    "class Gender(Enum):\n",
    "    Male=0\n",
    "    Female=1\n",
    "class Student(object):\n",
    "    def __init__(self, name,gender):\n",
    "        self.name=name\n",
    "        self.gender=gender\n",
    "        \n",
    "ss=Student('ss',Gender.Male)\n",
    "if ss.gender==Gender.Male:\n",
    "    print('测试通过')\n",
    "else:\n",
    "    print('测试失败！')"
   ]
  },
  {
   "cell_type": "code",
   "execution_count": 70,
   "metadata": {},
   "outputs": [
    {
     "name": "stdout",
     "output_type": "stream",
     "text": [
      "307.6\n"
     ]
    }
   ],
   "source": [
    "from functools import reduce\n",
    "def str2num(s):\n",
    "    return eval(s)\n",
    "def calc(exp):\n",
    "    ss=exp.split('+')\n",
    "    ns=map(str2num, ss)\n",
    "#     print(list(ns))\n",
    "    return reduce(lambda acc, x : acc+x, ns)\n",
    "def main():\n",
    "    r=calc('100+200+7.6')\n",
    "    print(r)\n",
    "\n",
    "main()"
   ]
  },
  {
   "cell_type": "code",
   "execution_count": 72,
   "metadata": {},
   "outputs": [
    {
     "name": "stderr",
     "output_type": "stream",
     "text": [
      "INFO:root:n=0\n"
     ]
    },
    {
     "ename": "ZeroDivisionError",
     "evalue": "division by zero",
     "traceback": [
      "\u001b[0;31m---------------------------------------------------------------------------\u001b[0m",
      "\u001b[0;31mZeroDivisionError\u001b[0m                         Traceback (most recent call last)",
      "\u001b[0;32m<ipython-input-72-a9e971f13c0e>\u001b[0m in \u001b[0;36m<module>\u001b[0;34m()\u001b[0m\n\u001b[1;32m      4\u001b[0m \u001b[0;31m# logging.basicConfig(level=logging.INFO)\u001b[0m\u001b[0;34m\u001b[0m\u001b[0;34m\u001b[0m\u001b[0m\n\u001b[1;32m      5\u001b[0m \u001b[0mlogging\u001b[0m\u001b[0;34m.\u001b[0m\u001b[0minfo\u001b[0m\u001b[0;34m(\u001b[0m\u001b[0;34m'n=%d'\u001b[0m \u001b[0;34m%\u001b[0m \u001b[0mn\u001b[0m\u001b[0;34m)\u001b[0m\u001b[0;34m\u001b[0m\u001b[0m\n\u001b[0;32m----> 6\u001b[0;31m \u001b[0mprint\u001b[0m\u001b[0;34m(\u001b[0m\u001b[0;36m10\u001b[0m\u001b[0;34m/\u001b[0m\u001b[0mn\u001b[0m\u001b[0;34m)\u001b[0m\u001b[0;34m\u001b[0m\u001b[0m\n\u001b[0m",
      "\u001b[0;31mZeroDivisionError\u001b[0m: division by zero"
     ],
     "output_type": "error"
    }
   ],
   "source": [
    "import logging\n",
    "s='0'\n",
    "n=int(s)\n",
    "# logging.basicConfig(level=logging.INFO)\n",
    "logging.info('n=%d' % n)\n",
    "print(10/n)\n"
   ]
  },
  {
   "cell_type": "code",
   "execution_count": 84,
   "metadata": {
    "collapsed": true
   },
   "outputs": [],
   "source": [
    "with open('/home/template/temp/PythonServer.py','r')  as f:\n",
    "    s=f.read()\n",
    "#     print(s)\n",
    "# print(s)"
   ]
  },
  {
   "cell_type": "code",
   "execution_count": 82,
   "metadata": {},
   "outputs": [
    {
     "name": "stdout",
     "output_type": "stream",
     "text": [
      "hello world\n"
     ]
    }
   ],
   "source": [
    "from io import StringIO\n",
    "f=StringIO()\n",
    "f.write('hello')\n",
    "f.write(' ')\n",
    "f.write('world')\n",
    "print(f.getvalue())"
   ]
  },
  {
   "cell_type": "code",
   "execution_count": 85,
   "metadata": {},
   "outputs": [
    {
     "data": {
      "text/plain": [
       "'posix'"
      ]
     },
     "execution_count": 85,
     "metadata": {},
     "output_type": "execute_result"
    }
   ],
   "source": [
    "import os\n",
    "os.name"
   ]
  },
  {
   "cell_type": "code",
   "execution_count": 89,
   "metadata": {},
   "outputs": [
    {
     "name": "stdout",
     "output_type": "stream",
     "text": [
      "process (4045) start......\n",
      "i (4045) just created a child process (6003).\n",
      "process (4045) start......\n",
      "i am child process (6003) and my parent is 4045.\n"
     ]
    }
   ],
   "source": [
    "import os\n",
    "print('process (%s) start......' % os.getpid())\n",
    "pid=os.fork()\n",
    "if pid==0:\n",
    "    print('i am child process (%s) and my parent is %s.' % (os.getpid(), os.getppid()))\n",
    "else:\n",
    "    print('i (%s) just created a child process (%s).' % (os.getpid(), pid))"
   ]
  },
  {
   "cell_type": "code",
   "execution_count": 126,
   "metadata": {},
   "outputs": [
    {
     "name": "stdout",
     "output_type": "stream",
     "text": [
      "parent process 4045.\n",
      "Child process will start.\n",
      "Run child process test (6421)....\n",
      "Child process end.\n"
     ]
    }
   ],
   "source": [
    "from multiprocessing import Process\n",
    "import os\n",
    "def run_proc(name):\n",
    "    print('Run child process %s (%s)....' % (name, os.getpid()))\n",
    "\n",
    "if __name__=='__main__':\n",
    "    print('parent process %s.' % os.getpid())\n",
    "    p=Process(target=run_proc, args=('test',))\n",
    "    print('Child process will start.')\n",
    "    p.start()\n",
    "    p.join()\n",
    "    print('Child process end.')\n",
    "    "
   ]
  },
  {
   "cell_type": "code",
   "execution_count": 127,
   "metadata": {},
   "outputs": [
    {
     "name": "stdout",
     "output_type": "stream",
     "text": [
      "parent process 4045.\n",
      "run task 1 (6424)\n",
      "run task 0 (6425)\n",
      "run task 2 (6426)\n",
      "run task 3 (6427)\n",
      "waiting for all subprocess done...\n",
      "task 0 runs 1.99 s\n",
      "run task 4 (6425)\n",
      "task 1 runs 2.80 s\n",
      "run task 5 (6424)\n",
      "task 3 runs 3.40 s\n",
      "task 2 runs 3.80 s\n",
      "task 4 runs 3.86 s\n",
      "task 5 runs 3.92 s\n",
      "all subprocess done...\n"
     ]
    }
   ],
   "source": [
    "from multiprocessing import Pool\n",
    "import os,time,random\n",
    "def subpro(name):\n",
    "    print('run task %s (%s)' % (name, os.getpid()))\n",
    "    start=time.time()\n",
    "    time.sleep(random.random()*4)\n",
    "    end=time.time()\n",
    "    print('task %s runs %0.2f s' % (name, (end-start)))\n",
    "    \n",
    "if __name__=='__main__':\n",
    "    print('parent process %s.' % (os.getpid()))\n",
    "    p=Pool(4)\n",
    "    for i in range(6):\n",
    "        p.apply_async(subpro, args=(i,))\n",
    "    print('waiting for all subprocess done...')\n",
    "    p.close()\n",
    "    p.join()\n",
    "    print('all subprocess done...')"
   ]
  },
  {
   "cell_type": "code",
   "execution_count": 128,
   "metadata": {
    "collapsed": true
   },
   "outputs": [],
   "source": [
    "import multiprocessing as mp\n",
    "import threading as td\n",
    "def job(q):\n",
    "    res=0\n",
    "    for i in range(1000000):\n",
    "        res += i+i**2+i**3\n",
    "    q.put(res)\n",
    "    \n",
    "def multicore():\n",
    "    q=mp.Queue()\n",
    "    p1=mp.Process(target=job, args=(q,))\n",
    "    p2=mp.Process(target=job, args=(q,))\n",
    "    p1.start()\n",
    "    p2.start()\n",
    "    p1.join()\n",
    "    p2.join()\n",
    "    res1=q.get()\n",
    "#     print(res1)\n",
    "    res2=q.get()\n",
    "#     print(res2)\n",
    "    print(res1+res2)\n",
    "\n",
    "def multithread():\n",
    "    q=mp.Queue()\n",
    "    p1=td.Thread(target=job, args=(q,))\n",
    "    p2=td.Thread(target=job, args=(q,))\n",
    "    p1.start()\n",
    "    p2.start()\n",
    "    p1.join()\n",
    "    p2.join()\n",
    "    res1=q.get()\n",
    "#     print(res1)\n",
    "    res2=q.get()\n",
    "#     print(res2)\n",
    "    print('multithread:',res1+res2)\n",
    "    \n",
    "def normal():\n",
    "    res=0\n",
    "    for _ in range(2):\n",
    "        for i in range(1000000):\n",
    "            res += i+i**2+i**3\n",
    "    print('normal:', res)"
   ]
  },
  {
   "cell_type": "code",
   "execution_count": 129,
   "metadata": {},
   "outputs": [
    {
     "name": "stdout",
     "output_type": "stream",
     "text": [
      "499999666667166666000000\n",
      "multiprocess time: 5.311013221740723\n",
      "multithread: 499999666667166666000000\n",
      "multithread time: 7.357273817062378\n",
      "normal: 499999666667166666000000\n",
      "normal time: 10.789046049118042\n"
     ]
    }
   ],
   "source": [
    "if __name__=='__main__':\n",
    "    s1=time.time()\n",
    "    multicore()\n",
    "    s2=time.time()\n",
    "    print('multiprocess time:',s2-s1)\n",
    "    multithread()\n",
    "    s3=time.time()\n",
    "    print('multithread time:',s3-s2)\n",
    "    normal()\n",
    "    s4=time.time()\n",
    "    print('normal time:', s4-s3)"
   ]
  },
  {
   "cell_type": "code",
   "execution_count": 135,
   "metadata": {},
   "outputs": [
    {
     "name": "stdout",
     "output_type": "stream",
     "text": [
      "Process to write:  6631\n",
      "process to read: 6632\n",
      "put A to queue...\n",
      "get A from queue..\n",
      "put B to queue...\n",
      "get B from queue..\n",
      "put C to queue...\n",
      "get C from queue..\n",
      "put D to queue...\n",
      "get D from queue..\n"
     ]
    }
   ],
   "source": [
    "from multiprocessing import Process, Queue\n",
    "import os, time, random\n",
    "# 写数据进程\n",
    "def write(q):\n",
    "    print('Process to write: ', os.getpid())\n",
    "    for value in ['A','B','C','D']:\n",
    "        print('put %s to queue...' % (value))\n",
    "        q.put(value)\n",
    "        time.sleep(random.random())\n",
    "        \n",
    "def read(q):\n",
    "    print('process to read:', os.getpid())\n",
    "    while True:\n",
    "        value = q.get()\n",
    "        print('get %s from queue..' % value)\n",
    "        \n",
    "if __name__ == '__main__':\n",
    "    q=Queue()\n",
    "    pw = Process(target=write, args=(q,))\n",
    "    pr = Process(target=read, args=(q,))\n",
    "    pw.start()\n",
    "    pr.start()\n",
    "    pw.join()\n",
    "#     pr.join()\n",
    "    pr.terminate()"
   ]
  },
  {
   "cell_type": "code",
   "execution_count": 142,
   "metadata": {},
   "outputs": [
    {
     "name": "stdout",
     "output_type": "stream",
     "text": [
      "hello, alice (in A )\n",
      "hello, blice (in B )\n"
     ]
    }
   ],
   "source": [
    "import threading\n",
    "local_school=threading.local()\n",
    "def process_student():\n",
    "    t1=local_school.teacher\n",
    "    print('hello, %s (in %s )' %(t1, threading.current_thread().name))\n",
    "    \n",
    "def process_thread(name):\n",
    "    local_school.teacher=name\n",
    "    process_student()\n",
    "    \n",
    "t1=threading.Thread(target=process_thread, args=('alice',), name='A')\n",
    "t2=threading.Thread(target=process_thread, args=('blice',), name='B')\n",
    "t1.start()\n",
    "t2.start()\n",
    "# t2.join()\n",
    "# t1.join()"
   ]
  },
  {
   "cell_type": "code",
   "execution_count": 145,
   "metadata": {},
   "outputs": [
    {
     "data": {
      "text/plain": [
       "datetime.datetime(2018, 1, 25, 11, 33, 57, 821929)"
      ]
     },
     "execution_count": 145,
     "metadata": {},
     "output_type": "execute_result"
    }
   ],
   "source": [
    "from datetime import datetime\n",
    "now=datetime.now()\n",
    "now"
   ]
  },
  {
   "cell_type": "code",
   "execution_count": 151,
   "metadata": {},
   "outputs": [
    {
     "name": "stdout",
     "output_type": "stream",
     "text": [
      "2018-01-25 11:43:05.664064\n",
      "2018-01-26 11:43:05.664064\n"
     ]
    }
   ],
   "source": [
    "from datetime import datetime, timedelta\n",
    "now=datetime.now()\n",
    "print(now)\n",
    "# datetime.datetime(2015,5,18,16,57,3,0)\n",
    "now=now+timedelta(days=1)\n",
    "print(now)"
   ]
  },
  {
   "cell_type": "code",
   "execution_count": 152,
   "metadata": {},
   "outputs": [
    {
     "data": {
      "text/plain": [
       "1"
      ]
     },
     "execution_count": 152,
     "metadata": {},
     "output_type": "execute_result"
    }
   ],
   "source": [
    "from collections import namedtuple\n",
    "p=namedtuple('point', ['x','y'])\n",
    "p1=p(1,2)\n",
    "p1.x"
   ]
  },
  {
   "cell_type": "code",
   "execution_count": 156,
   "metadata": {},
   "outputs": [
    {
     "name": "stdout",
     "output_type": "stream",
     "text": [
      "please input a number:2\n",
      "this number is: 2\n"
     ]
    }
   ],
   "source": [
    "a=int(input('please input a number:'))\n",
    "print('this number is:',a)"
   ]
  },
  {
   "cell_type": "code",
   "execution_count": null,
   "metadata": {
    "collapsed": true
   },
   "outputs": [],
   "source": [
    "from email.mime.text import MIMEText\n",
    "msg=MIMEText('hello, send by python...', 'plain', 'utf-8')\n",
    "from_addr="
   ]
  }
 ],
 "metadata": {
  "kernelspec": {
   "display_name": "Python 3",
   "language": "python",
   "name": "python3"
  }
 },
 "nbformat": 4,
 "nbformat_minor": 2
}
